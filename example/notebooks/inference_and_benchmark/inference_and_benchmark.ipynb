{
 "cells": [
  {
   "cell_type": "code",
   "execution_count": null,
   "metadata": {},
   "outputs": [],
   "source": [
    "from dnallm import load_config\n",
    "from dnallm import load_model_and_tokenizer, DNAPredictor\n",
    "from dnallm import Benchmark"
   ]
  },
  {
   "cell_type": "code",
   "execution_count": null,
   "metadata": {},
   "outputs": [],
   "source": [
    "# 读取配置文件\n",
    "configs = load_config(\"./inference_config.yaml\")"
   ]
  },
  {
   "cell_type": "markdown",
   "metadata": {},
   "source": [
    "### 模型推理"
   ]
  },
  {
   "cell_type": "code",
   "execution_count": null,
   "metadata": {},
   "outputs": [],
   "source": [
    "# 读取模型和分词器 (从ModelScope下载)\n",
    "model_name = \"zhangtaolab/plant-dnagpt-BPE\"\n",
    "model, tokenizer = load_model_and_tokenizer(model_name, task_config=configs['task'], source=\"modelscope\")"
   ]
  },
  {
   "cell_type": "code",
   "execution_count": null,
   "metadata": {},
   "outputs": [],
   "source": [
    "# 创建预测器\n",
    "predictor = DNAPredictor(\n",
    "    model=model,\n",
    "    tokenizer=tokenizer,\n",
    "    config=configs\n",
    ")"
   ]
  },
  {
   "cell_type": "code",
   "execution_count": null,
   "metadata": {},
   "outputs": [],
   "source": [
    "# 输入序列进行预测\n",
    "seqs = [\"ACCGTAGATTGAACGCGGGAGGCAACAGGCTAAATCGTCCGTTCAGCCAAAACGGAATCATGGGCTGTTTTTCCAGAAGGCT\",\n",
    "        \"TATATGTTCGCGGGTATAAAATCTTACCCATATTCGTACGCGCGCGGGTATTTTTACCCGTCGGGTAACCCGTACCTGCTAGGAAAGTTAAAAATTCCAATATACTAATAA\"]\n",
    "results = predictor.predict_seqs(seqs)\n",
    "print(results)"
   ]
  },
  {
   "cell_type": "code",
   "execution_count": null,
   "metadata": {},
   "outputs": [],
   "source": [
    "# 读取文件进行预测\n",
    "seq_file = './test.csv'\n",
    "results, metrics = predictor.predict_file(seq_file, evaluate=True)\n",
    "print(metrics)"
   ]
  },
  {
   "cell_type": "markdown",
   "metadata": {},
   "source": [
    "### 模型基准测试"
   ]
  },
  {
   "cell_type": "code",
   "execution_count": null,
   "metadata": {},
   "outputs": [],
   "source": [
    "# 初始化基准测试\n",
    "benchmark = Benchmark(config=configs)"
   ]
  },
  {
   "cell_type": "code",
   "execution_count": null,
   "metadata": {},
   "outputs": [],
   "source": [
    "# 获取数据集\n",
    "dataset = benchmark.get_dataset(\"./test.csv\", seq_col=\"sequence\", label_col=\"label\")"
   ]
  },
  {
   "cell_type": "code",
   "execution_count": null,
   "metadata": {},
   "outputs": [],
   "source": [
    "# 指定模型\n",
    "model_names = {\n",
    "    \"Plant DNABERT\": \"zhangtaolab/plant-dnabert-BPE-promoter\",\n",
    "    \"Plant DNAGPT\": \"zhangtaolab/plant-dnagpt-BPE-promoter\",\n",
    "    \"Plant NT\": \"zhangtaolab/plant-nucleotide-transformer-BPE-promoter\",\n",
    "    \"Nucleotide Transformer\": \"zhangtaolab/nucleotide-transformer-v2-100m-promoter\",\n",
    "    \"DNABERT-2\": \"zhangtaolab/dnabert2-promoter\",\n",
    "}"
   ]
  },
  {
   "cell_type": "code",
   "execution_count": null,
   "metadata": {},
   "outputs": [],
   "source": [
    "# 运行基准测试\n",
    "metrics = benchmark.run(model_names, source=\"modelscope\")"
   ]
  },
  {
   "cell_type": "code",
   "execution_count": null,
   "metadata": {},
   "outputs": [],
   "source": [
    "# 画图（pbar：各种得分柱状图；pline：ROC曲线）\n",
    "pbar, pline = benchmark.plot(metrics, save_path='plot.pdf')"
   ]
  },
  {
   "cell_type": "code",
   "execution_count": null,
   "metadata": {},
   "outputs": [],
   "source": [
    "# 在Notebook中展示图\n",
    "pbar"
   ]
  },
  {
   "cell_type": "code",
   "execution_count": null,
   "metadata": {},
   "outputs": [],
   "source": [
    "pline"
   ]
  }
 ],
 "metadata": {
  "language_info": {
   "name": "python"
  }
 },
 "nbformat": 4,
 "nbformat_minor": 2
}
