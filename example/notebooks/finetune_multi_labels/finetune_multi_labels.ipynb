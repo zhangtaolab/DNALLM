{
 "cells": [
  {
   "cell_type": "code",
   "execution_count": null,
   "metadata": {},
   "outputs": [],
   "source": [
    "from dnallm import load_config, load_model_and_tokenizer, DNADataset, DNATrainer"
   ]
  },
  {
   "cell_type": "code",
   "execution_count": null,
   "metadata": {},
   "outputs": [],
   "source": [
    "# Load the config file\n",
    "configs = load_config(\"./multi_labels_config.yaml\")"
   ]
  },
  {
   "cell_type": "code",
   "execution_count": null,
   "metadata": {},
   "outputs": [],
   "source": [
    "# Load the model and tokenizer\n",
    "model_name = \"zhangtaolab/plant-dnagpt-BPE\"\n",
    "# from Hugging Face\n",
    "# model, tokenizer = load_model_and_tokenizer(model_name, task_config=configs['task'], source=\"huggingface\")\n",
    "# from ModelScope\n",
    "model, tokenizer = load_model_and_tokenizer(model_name, task_config=configs['task'], source=\"modelscope\")"
   ]
  },
  {
   "cell_type": "code",
   "execution_count": null,
   "metadata": {},
   "outputs": [],
   "source": [
    "# Load the datasets\n",
    "## multiple labels are separated by ','\n",
    "datasets = DNADataset.load_local_data(\"./maize_test.tsv\", seq_col=\"sequence\", label_col=\"labels\", multi_label_sep=\",\", tokenizer=tokenizer, max_length=512)\n",
    "\n",
    "# Encode the sequences with given task's data collator\n",
    "datasets.encode_sequences(task=configs['task'].task_type, remove_unused_columns=True)\n",
    "\n",
    "# Split the dataset into train, test, and validation sets\n",
    "datasets.split_data()"
   ]
  },
  {
   "cell_type": "code",
   "execution_count": null,
   "metadata": {},
   "outputs": [],
   "source": [
    "# Initialize the trainer\n",
    "trainer = DNATrainer(\n",
    "    model=model,\n",
    "    config=configs,\n",
    "    datasets=datasets\n",
    ")"
   ]
  },
  {
   "cell_type": "code",
   "execution_count": null,
   "metadata": {},
   "outputs": [],
   "source": [
    "# Start training\n",
    "metrics = trainer.train()\n",
    "print(metrics)"
   ]
  },
  {
   "cell_type": "code",
   "execution_count": null,
   "metadata": {},
   "outputs": [],
   "source": [
    "# Do prediction on the test set\n",
    "trainer.predict()"
   ]
  }
 ],
 "metadata": {
  "language_info": {
   "name": "python"
  }
 },
 "nbformat": 4,
 "nbformat_minor": 2
}
